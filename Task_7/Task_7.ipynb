{
 "cells": [
  {
   "cell_type": "code",
   "execution_count": null,
   "id": "9e93cbfc",
   "metadata": {},
   "outputs": [],
   "source": [
    "import sqlite3\n",
    "import pandas as pd\n",
    "import matplotlib.pyplot as plt\n"
   ]
  },
  {
   "cell_type": "code",
   "execution_count": null,
   "id": "b9e84ee2",
   "metadata": {},
   "outputs": [],
   "source": [
    "conn =sqlite3.connect(\"sales_data.db\")\n",
    "cursor = conn.cursor()\n",
    "\n",
    "cursor.execute(\"\"\"\n",
    "CREATE TABLE IF NOT EXISTS sales(\n",
    "               id INTEGER PRIMARY KEY AUTOINCREMENT,\n",
    "               product TEXT,\n",
    "               quantity INTEGER,\n",
    "               price REAL\n",
    "               )\n",
    "               \"\"\")\n",
    "\n",
    "sales_data=[\n",
    "    (\"Phone \", 100, 10.99),\n",
    "    (\"Laptop\", 50,  999.99),\n",
    "    (\"Tablet\", 200,  299.99),\n",
    "    (\"Headphones\", 150,  49.99),\n",
    "    (\"Charger\", 250,50.99),\n",
    "    (\"Mouse\", 300,  19.99),\n",
    "    (\"Keyboard\", 400,  29.99),\n",
    "    (\"Monitor\", 350,  199.99),\n",
    "    (\"Speaker\", 450,  99.99),\n",
    "    (\"Camera\", 550,  299.99),\n",
    "    (\"Printer\", 650,  199.99),\n",
    "    (\"Scanner\", 750,  99.99),\n",
    "    (\"Projector\", 850,  499.99),\n",
    "    (\"Notebook\", 950,  299.99),\n",
    "    (\"Desk\", 1050,  199.99),\n",
    "    (\"Chair\", 1150,  99.99),\n",
    "    (\"Table\", 1250,  499.99),\n",
    "    (\"Shelf\", 1350,  299.99),\n",
    "    (\"Bookcase\", 1450,  199.99),\n",
    "    (\"Cabinet\", 1550,  499.99),\n",
    "    (\"Filing Cabinet\", 1650,  299.99),\n",
    "    (\"Ergonomic Chair\", 1750,  199.99),\n",
    "    (\"Standing Desk\", 1850,  499.99),\n",
    "    (\"Whiteboard\", 1950,  299.99),\n",
    "    (\"Easel\", 2050,  199.99),\n",
    "    (\"Pencil Case\", 2150,  99.99),\n",
    "    (\"Pencil Sharpener\", 2250,  49.99),\n",
    "    (\"Highlighter\", 2350,  29.99),\n",
    "    (\"Calculator\", 2450,  19.99),\n",
    "    (\"Ruler\", 2550,  9.99),\n",
    "    (\"Pencil\", 2650,  4.99),\n",
    "    (\"Eraser\", 2750,  2.99),\n",
    "    \n",
    "]\n",
    "\n",
    "cursor.executemany(\"INSERT INTO sales (product,quantity,price) VALUES (?,?,?)\",sales_data)\n",
    "\n",
    "\n",
    "conn.commit()\n",
    "\n",
    "conn.close\n"
   ]
  },
  {
   "cell_type": "code",
   "execution_count": null,
   "id": "3157b1f9",
   "metadata": {},
   "outputs": [],
   "source": [
    "conn =sqlite3.connect(\"sales_data.db\")\n",
    "\n",
    "qury =\"\"\"SELECT \n",
    "    product, \n",
    "    SUM(quantity) AS total_qty, \n",
    "    SUM(quantity * price) AS revenue \n",
    "FROM sales \n",
    "GROUP BY product;\"\"\"\n",
    "df = pd.read_sql_query(qury, conn)\n",
    "\n",
    "conn.close()\n",
    "\n",
    "print(\"Sales Summary\")\n",
    "print(df)\n"
   ]
  },
  {
   "cell_type": "code",
   "execution_count": null,
   "id": "3ec97847",
   "metadata": {},
   "outputs": [],
   "source": [
    "df.plot(kind ='bar' , x = 'product' , y ='revenue', color = 'blue' , legend =False)\n",
    "\n",
    "\n",
    "plt.title(\"Revenue by Product\")\n",
    "plt.xlabel(\"Product\")\n",
    "plt.ylabel(\"Revenue\")\n",
    "plt.tight_layout()\n",
    "\n",
    "plt.show()"
   ]
  }
 ],
 "metadata": {
  "language_info": {
   "name": "python"
  }
 },
 "nbformat": 4,
 "nbformat_minor": 5
}
